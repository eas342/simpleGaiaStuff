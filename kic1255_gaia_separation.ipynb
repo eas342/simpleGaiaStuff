{
 "cells": [
  {
   "cell_type": "markdown",
   "metadata": {},
   "source": [
    "## Gaia Separation"
   ]
  },
  {
   "cell_type": "markdown",
   "metadata": {},
   "source": [
    "This script finds the accurate distance between two stars.\n",
    "Method\n",
    " - Look up Two Objects by name\n",
    " - Find the Gaia DR2 positions and proper motions\n",
    " - Project the positions to the relevant epoch\n",
    " - Calculate the separation\n",
    "\n",
    "** Note: Requires Astropy 3. which requires Python 3"
   ]
  },
  {
   "cell_type": "code",
   "execution_count": 1,
   "metadata": {},
   "outputs": [],
   "source": [
    "from astropy.coordinates import SkyCoord\n",
    "from astroquery.vizier import Vizier \n",
    "import astropy.units as u \n",
    "from astropy.time import Time\n",
    "import astropy\n",
    "from distutils.version import LooseVersion\n",
    "import logging\n",
    "import pdb\n",
    "if LooseVersion(astropy.__version__) < LooseVersion(\"3.0\"):\n",
    "    logging.error(\"Need Astropy >=3.0 for this script. You'll also need Python >3\")"
   ]
  },
  {
   "cell_type": "code",
   "execution_count": 2,
   "metadata": {},
   "outputs": [],
   "source": [
    "c1 = SkyCoord.from_name(\"KIC 12557548\")\n",
    "c2 = SkyCoord.from_name(\"KIC 12557592\")\n",
    "obstime = Time('2018-07-16')"
   ]
  },
  {
   "cell_type": "markdown",
   "metadata": {},
   "source": [
    "Separation without taking into account proper motion"
   ]
  },
  {
   "cell_type": "code",
   "execution_count": 3,
   "metadata": {},
   "outputs": [
    {
     "data": {
      "text/latex": [
       "$74.3554\\mathrm{{}^{\\prime\\prime}}$"
      ],
      "text/plain": [
       "<Angle 74.35537273 arcsec>"
      ]
     },
     "execution_count": 3,
     "metadata": {},
     "output_type": "execute_result"
    }
   ],
   "source": [
    "c1.separation(c2).to(u.arcsec)"
   ]
  },
  {
   "cell_type": "code",
   "execution_count": 4,
   "metadata": {},
   "outputs": [],
   "source": [
    "def gaia_query(inCoord, rad_arcsec=0.5, maxmag=35, \n",
    "               maxsources=10): \n",
    "    \"\"\"\n",
    "    Query Gaia DR2 @ VizieR using astroquery.vizier\n",
    "    ## Adapted from \n",
    "    ## https://michaelmommert.wordpress.com/2017/02/13/\n",
    "        accessing-the-gaia-and-pan-starrs-catalogs-using-python/\n",
    "    parameters: inCoord: input astropy SkyCoord object\n",
    "                rad_deg: \n",
    "                                          radius in degrees\n",
    "                maxmag: upper limit G magnitude (optional)\n",
    "                maxsources: maximum number of sources\n",
    "    returns: astropy.table object\n",
    "    \"\"\"\n",
    "    ## See http://cdsarc.u-strasbg.fr/viz-bin/Cat?I%2F345\n",
    "    ## For more on the columns & data table\n",
    "    columns = ['RA_ICRS','DE_ICRS','pmRA','pmDE','Epoch','Plx']\n",
    "    vquery = Vizier(row_limit = maxsources,columns=columns)\n",
    "    rad_deg = rad_arcsec /3600.\n",
    "    \n",
    "    queryResult = vquery.query_region(inCoord, \n",
    "                                      width=(\"%fd\" % rad_deg), \n",
    "                                      catalog=\"I/345/gaia2\")\n",
    "    if len(queryResult) >= 1:\n",
    "        table = queryResult[0]\n",
    "    else:\n",
    "        logging.error(\"No Gaia Table Found for {}\".format(inCoord))\n",
    "        return\n",
    "    \n",
    "    #pdb.set_trace()\n",
    "    if table['Epoch'][0] != 2015.5:\n",
    "        logging.error(\"Epoch was different from expectations. Stopping\")\n",
    "    else:\n",
    "        refTime = Time('2015-06-01')\n",
    "    \n",
    "    distance = (1.0 * u.pc * u.arcsec / table['Plx']).to(u.pc)\n",
    "    coordTab = SkyCoord(ra=table['RA_ICRS'],# * u.deg,\n",
    "                        dec=table['DE_ICRS'],# * u.deg,\n",
    "                        pm_ra_cosdec=table['pmRA'],# * u.mas/u.yr,\n",
    "                        pm_dec = table['pmDE'],# * u.mas/u.yr,\n",
    "                        distance=distance,\n",
    "                        obstime=refTime)\n",
    "    \n",
    "    idx, d2d, d3d = inCoord.match_to_catalog_sky(coordTab)\n",
    "    \n",
    "    if d2d > rad_deg * u.deg:\n",
    "        logging.error(\"Object not found within {} deg\".format(rad_deg))\n",
    "    else:\n",
    "        print(\"Object found within {}\".format(d2d.to(u.arcsec)))\n",
    "        return coordTab[idx]\n",
    "\n"
   ]
  },
  {
   "cell_type": "code",
   "execution_count": 5,
   "metadata": {},
   "outputs": [
    {
     "name": "stdout",
     "output_type": "stream",
     "text": [
      "Object found within [0.1564898] arcsec\n",
      "Object found within [0.25499568] arcsec\n"
     ]
    }
   ],
   "source": [
    "c1_pm = gaia_query(c1)\n",
    "c2_pm = gaia_query(c2,rad_arcsec=0.7)"
   ]
  },
  {
   "cell_type": "code",
   "execution_count": 6,
   "metadata": {},
   "outputs": [],
   "source": [
    "newPosC1 = c1_pm.apply_space_motion(new_obstime=obstime)\n",
    "newPosC2 = c2_pm.apply_space_motion(new_obstime=obstime)"
   ]
  },
  {
   "cell_type": "code",
   "execution_count": 7,
   "metadata": {},
   "outputs": [
    {
     "data": {
      "text/latex": [
       "$74.1015\\mathrm{{}^{\\prime\\prime}}$"
      ],
      "text/plain": [
       "<Angle 74.10145782 arcsec>"
      ]
     },
     "execution_count": 7,
     "metadata": {},
     "output_type": "execute_result"
    }
   ],
   "source": [
    "newPosC1.separation(newPosC2).to(u.arcsec)"
   ]
  },
  {
   "cell_type": "code",
   "execution_count": null,
   "metadata": {},
   "outputs": [],
   "source": []
  }
 ],
 "metadata": {
  "kernelspec": {
   "display_name": "Python 3",
   "language": "python",
   "name": "python3"
  },
  "language_info": {
   "codemirror_mode": {
    "name": "ipython",
    "version": 3
   },
   "file_extension": ".py",
   "mimetype": "text/x-python",
   "name": "python",
   "nbconvert_exporter": "python",
   "pygments_lexer": "ipython3",
   "version": "3.6.4"
  }
 },
 "nbformat": 4,
 "nbformat_minor": 2
}
